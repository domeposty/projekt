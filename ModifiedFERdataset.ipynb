{
 "cells": [
  {
   "cell_type": "code",
   "execution_count": 18,
   "id": "cfad67ee-2159-4a6f-be3e-82ec71212a39",
   "metadata": {},
   "outputs": [],
   "source": [
    "import matplotlib.pyplot as plt\n",
    "import os as os\n",
    "import cv2\n",
    "from tqdm import tqdm\n",
    "import numpy as np"
   ]
  },
  {
   "cell_type": "code",
   "execution_count": 22,
   "id": "ca1fa718-25d2-4ca5-8623-2dec965fd45e",
   "metadata": {},
   "outputs": [],
   "source": [
    "DATADIR = \"FER2013MODIFIED/train\"\n",
    "CATEGORIES = ['expressionless', 'expressive']\n",
    "for category in CATEGORIES:\n",
    "    path = os.path.join(DATADIR, category) \n",
    "    for img in os.listdir(path): \n",
    "        img_array=cv2.imread(os.path.join(path,img),cv2.IMREAD_GRAYSCALE) \n",
    "        #plt.imshow(img_array, cmap='gray')\n",
    "        #plt.show()\n",
    "        break\n",
    "    break"
   ]
  },
  {
   "cell_type": "code",
   "execution_count": 23,
   "id": "59186dd2-654d-45eb-8824-097ead1b2c79",
   "metadata": {},
   "outputs": [],
   "source": [
    "IMG_SIZE=40\n",
    "new_array=cv2.resize(img_array, (IMG_SIZE, IMG_SIZE)) \n",
    "#plt.imshow(new_array, cmap= 'gray')\n",
    "#plt.show() "
   ]
  },
  {
   "cell_type": "code",
   "execution_count": 29,
   "id": "e60a6f47-d70d-4adc-9e5d-1576bd7bfb2e",
   "metadata": {},
   "outputs": [
    {
     "name": "stderr",
     "output_type": "stream",
     "text": [
      "100%|████████████████████████████████████████████████████████████████████████████| 4965/4965 [00:00<00:00, 7919.41it/s]\n",
      "100%|██████████████████████████████████████████████████████████████████████████| 23742/23742 [00:03<00:00, 6409.11it/s]\n"
     ]
    }
   ],
   "source": [
    "training_data= []\n",
    "def create_training_data(): \n",
    "    for category in CATEGORIES:\n",
    "        path = os.path.join(DATADIR, category)\n",
    "        class_num= CATEGORIES.index(category)\n",
    "        for img in tqdm(os.listdir(path)): \n",
    "                img_array=cv2.imread(os.path.join(path,img),cv2.IMREAD_GRAYSCALE) \n",
    "                new_array=cv2.resize(img_array, (IMG_SIZE, IMG_SIZE)) \n",
    "                training_data.append([new_array, class_num]) \n",
    "        \n",
    "create_training_data()"
   ]
  },
  {
   "cell_type": "code",
   "execution_count": 25,
   "id": "0d627706-0512-40b9-b5e9-8cc07c5c1da2",
   "metadata": {},
   "outputs": [
    {
     "name": "stdout",
     "output_type": "stream",
     "text": [
      "28707\n"
     ]
    }
   ],
   "source": [
    "print(len(training_data))"
   ]
  },
  {
   "cell_type": "code",
   "execution_count": 26,
   "id": "7efcfdf6-37ad-45ca-a651-05d9ca6e3fb9",
   "metadata": {},
   "outputs": [],
   "source": [
    "import random\n",
    "random.shuffle(training_data)"
   ]
  },
  {
   "cell_type": "code",
   "execution_count": 27,
   "id": "d14f8665-6c33-41f2-99b4-52ac4016db69",
   "metadata": {},
   "outputs": [],
   "source": [
    "X=[]\n",
    "y=[]\n",
    "for features, label in training_data:\n",
    "    X.append(features) \n",
    "    y.append(label)\n",
    "X=np.array(X).reshape(-1,IMG_SIZE, IMG_SIZE, 1)\n",
    "y=np.array(y)"
   ]
  },
  {
   "cell_type": "code",
   "execution_count": 28,
   "id": "71472312-999c-4b57-89f2-4286ee2912e9",
   "metadata": {},
   "outputs": [],
   "source": [
    "import pickle\n",
    "pickle_out = open(\"X.pickle\", \"wb\")\n",
    "pickle.dump(X, pickle_out)\n",
    "pickle_out.close()\n",
    "pickle_out = open(\"y.pickle\", \"wb\")\n",
    "pickle.dump(y, pickle_out)\n",
    "pickle_out.close()"
   ]
  }
 ],
 "metadata": {
  "kernelspec": {
   "display_name": "Python 3 (ipykernel)",
   "language": "python",
   "name": "python3"
  },
  "language_info": {
   "codemirror_mode": {
    "name": "ipython",
    "version": 3
   },
   "file_extension": ".py",
   "mimetype": "text/x-python",
   "name": "python",
   "nbconvert_exporter": "python",
   "pygments_lexer": "ipython3",
   "version": "3.8.13"
  }
 },
 "nbformat": 4,
 "nbformat_minor": 5
}
