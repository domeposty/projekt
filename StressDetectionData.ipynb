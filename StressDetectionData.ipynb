{
 "cells": [
  {
   "cell_type": "code",
   "execution_count": 1,
   "id": "a05556ff-a3c9-4876-8b9a-bc42d1fa7ae8",
   "metadata": {},
   "outputs": [],
   "source": [
    "import matplotlib.pyplot as plt\n",
    "import os as os\n",
    "import cv2\n",
    "from tqdm import tqdm\n",
    "import numpy as np\n",
    "import random\n",
    "import pickle"
   ]
  },
  {
   "cell_type": "code",
   "execution_count": 2,
   "id": "08dae161-67c3-414d-9dfc-9d2543c821bd",
   "metadata": {},
   "outputs": [],
   "source": [
    "DATADIR = \"StressDetection/Train\"\n",
    "CATEGORIES = ['Nonstressed', 'Stressed']"
   ]
  },
  {
   "cell_type": "code",
   "execution_count": 3,
   "id": "16b1c4df-8c31-4ede-b629-bc91ab0aa755",
   "metadata": {},
   "outputs": [
    {
     "name": "stderr",
     "output_type": "stream",
     "text": [
      "100%|████████████████████████████████████████████████████████████████████████████| 9600/9600 [00:05<00:00, 1896.75it/s]\n",
      "100%|████████████████████████████████████████████████████████████████████████████| 9120/9120 [00:05<00:00, 1800.15it/s]\n"
     ]
    }
   ],
   "source": [
    "IMG_SIZE=50\n",
    "training_data= []\n",
    "def create_training_data(): \n",
    "    for category in CATEGORIES:\n",
    "        path = os.path.join(DATADIR, category)\n",
    "        class_num= CATEGORIES.index(category)\n",
    "        for img in tqdm(os.listdir(path)): \n",
    "            img_array=cv2.imread(os.path.join(path,img),cv2.IMREAD_GRAYSCALE) \n",
    "            new_array=cv2.resize(img_array, (IMG_SIZE, IMG_SIZE)) \n",
    "            training_data.append([new_array, class_num]) \n",
    "        \n",
    "create_training_data()\n",
    "random.shuffle(training_data)"
   ]
  },
  {
   "cell_type": "code",
   "execution_count": 6,
   "id": "75592eb7-23ca-4e7a-a73d-6dcdd43c8ac8",
   "metadata": {},
   "outputs": [],
   "source": [
    "SD=[]\n",
    "L=[]\n",
    "for features, label in training_data:\n",
    "    SD.append(features) \n",
    "    L.append(label)\n",
    "SD=np.array(SD).reshape(-1,IMG_SIZE, IMG_SIZE, 1)\n",
    "L=np.array(L)\n",
    "pickle_out = open(\"SD.pickle\", \"wb\")\n",
    "pickle.dump(SD, pickle_out)\n",
    "pickle_out.close()\n",
    "pickle_out = open(\"L.pickle\", \"wb\")\n",
    "pickle.dump(L, pickle_out)\n",
    "pickle_out.close()"
   ]
  }
 ],
 "metadata": {
  "kernelspec": {
   "display_name": "Python 3 (ipykernel)",
   "language": "python",
   "name": "python3"
  },
  "language_info": {
   "codemirror_mode": {
    "name": "ipython",
    "version": 3
   },
   "file_extension": ".py",
   "mimetype": "text/x-python",
   "name": "python",
   "nbconvert_exporter": "python",
   "pygments_lexer": "ipython3",
   "version": "3.8.13"
  }
 },
 "nbformat": 4,
 "nbformat_minor": 5
}
