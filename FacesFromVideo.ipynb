{
 "cells": [
  {
   "cell_type": "code",
   "execution_count": null,
   "id": "6b4b00d3-0c64-4a1d-b08f-4aa892603b9b",
   "metadata": {},
   "outputs": [],
   "source": [
    "import os\n",
    "import numpy as np\n",
    "import argparse\n",
    "import cv2"
   ]
  },
  {
   "cell_type": "code",
   "execution_count": null,
   "id": "1791dc89-049f-48e5-abb0-6b628c3adf1c",
   "metadata": {},
   "outputs": [],
   "source": [
    "def main():\n",
    "    parser = argparse.ArgumentParser()\n",
    "    parser.add_argument('TestTest', type=str, help='C:/Users/user/TestTest.MP4')\n",
    "    parser.add_argument('outputframes2', type=str, help='C:/Users/user/outputframes2')\n",
    "    args = parser.parse_args()"
   ]
  },
  {
   "cell_type": "code",
   "execution_count": null,
   "id": "691e3fcb-09d6-4dab-80a2-c235eb244feb",
   "metadata": {},
   "outputs": [],
   "source": [
    "cap = cv2.VideoCapture('C:/Users/user/TestTest.MP4')\n",
    "path_to_save = os.path.abspath('C:/Users/user/outputframes2')\n",
    "classifier = cv2.CascadeClassifier(cv2.data.haarcascades+\"haarcascade_frontalface_default.xml\")\n"
   ]
  },
  {
   "cell_type": "code",
   "execution_count": null,
   "id": "09df21ea-78b6-45d0-8056-4a78e79a6312",
   "metadata": {},
   "outputs": [],
   "source": [
    "current_frame=1\n",
    "if (cap.isOpened()== False):\n",
    "    print('Cap is not open')\n",
    "while(cap.isOpened()):\n",
    "    ret, frame = cap.read()\n",
    "    if(ret==True):\n",
    "        faces = classifier.detectMultiScale(\n",
    "        frame,  \n",
    "        scaleFactor=1.05,\n",
    "        minNeighbors=20, \n",
    "        minSize=(100, 100) \n",
    "        ) \n",
    "        for (x, y, w, h) in faces:\n",
    "            cv2.rectangle(frame, (x, y), (x + w, y + h),(0,0,255),thickness=2)\n",
    "            sub_face = frame[y:y+h, x:x+w]\n",
    "        name = 'frame' + str(current_frame) + '.jpg'\n",
    "        print(f'Creating: {name}')\n",
    "        cv2.imwrite(os.path.join('C:/Users/user/outputframes2', name), sub_face)\n",
    "        current_frame +=1\n",
    "    else:\n",
    "        break\n",
    "cap.release()\n",
    "print('done')  "
   ]
  },
  {
   "cell_type": "code",
   "execution_count": null,
   "id": "7619a7a0-7650-40b7-8c17-6fcc716adc26",
   "metadata": {},
   "outputs": [],
   "source": [
    "import matplotlib.pyplot as plt\n",
    "DATA='C:/Users/user/outputframes2'\n",
    "for frame in DATA:\n",
    "    path = os.path.join(DATA) \n",
    "    for img in os.listdir(path): \n",
    "        img_array=cv2.imread(os.path.join(path,img),cv2.IMREAD_GRAYSCALE) \n",
    "        plt.imshow(img_array, cmap='gray')\n",
    "        plt.show()\n",
    "        break\n",
    "    break"
   ]
  },
  {
   "cell_type": "code",
   "execution_count": null,
   "id": "38733641-7a63-48b5-aaa4-00cddc86afed",
   "metadata": {},
   "outputs": [],
   "source": [
    "IMG_SIZE=40\n",
    "new_array=cv2.resize(img_array, (IMG_SIZE, IMG_SIZE)) \n",
    "plt.imshow(new_array, cmap= 'gray')\n",
    "plt.show() "
   ]
  },
  {
   "cell_type": "code",
   "execution_count": null,
   "id": "71f0e634-0bfe-48c0-924b-f5d76169c12f",
   "metadata": {},
   "outputs": [],
   "source": [
    "from tqdm import tqdm\n",
    "FacesData= []\n",
    "\n",
    "def create_FacesData(): \n",
    "        path = os.path.join(DATA)\n",
    "        for img in tqdm(os.listdir(path)): \n",
    "                img_array=cv2.imread(os.path.join(path,img),cv2.IMREAD_GRAYSCALE) \n",
    "                new_array=cv2.resize(img_array, (IMG_SIZE, IMG_SIZE)) \n",
    "                FacesData.append([new_array]) \n",
    "create_FacesData()"
   ]
  },
  {
   "cell_type": "code",
   "execution_count": null,
   "id": "21ccdde4-f8e1-45a0-8cba-dafa141a11e8",
   "metadata": {},
   "outputs": [],
   "source": [
    "print(len(FacesData))"
   ]
  },
  {
   "cell_type": "code",
   "execution_count": null,
   "id": "fac5b3bf-7472-46d7-9c1b-bdcd281ce1c5",
   "metadata": {},
   "outputs": [],
   "source": [
    "Faces=[]\n",
    "for features in FacesData:\n",
    "    Faces.append(features)\n",
    "Faces=np.array(Faces).reshape(-1,IMG_SIZE, IMG_SIZE, 1)\n",
    "Faces=Faces/255"
   ]
  },
  {
   "cell_type": "code",
   "execution_count": null,
   "id": "9e2bf0ab-8a39-4912-969f-f1e6daf4d6c8",
   "metadata": {},
   "outputs": [],
   "source": [
    "import pickle\n",
    "pickle_out = open(\"Faces.pickle\", \"wb\")\n",
    "pickle.dump(Faces, pickle_out)\n",
    "pickle_out.close()"
   ]
  }
 ],
 "metadata": {
  "kernelspec": {
   "display_name": "Python 3 (ipykernel)",
   "language": "python",
   "name": "python3"
  },
  "language_info": {
   "codemirror_mode": {
    "name": "ipython",
    "version": 3
   },
   "file_extension": ".py",
   "mimetype": "text/x-python",
   "name": "python",
   "nbconvert_exporter": "python",
   "pygments_lexer": "ipython3",
   "version": "3.8.13"
  }
 },
 "nbformat": 4,
 "nbformat_minor": 5
}
