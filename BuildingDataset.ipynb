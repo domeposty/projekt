{
 "cells": [
  {
   "cell_type": "code",
   "execution_count": 8,
   "id": "6c3aed4a-62be-4af0-b9f4-43a57f3bacf3",
   "metadata": {},
   "outputs": [],
   "source": [
    "import tensorflow as tf\n",
    "from tensorflow import keras\n",
    "import pickle\n",
    "import numpy as np\n",
    "import matplotlib.pyplot as plt\n",
    "import cv2"
   ]
  },
  {
   "cell_type": "code",
   "execution_count": 9,
   "id": "3f5d804c-1221-4999-b9df-3ea636e58fa0",
   "metadata": {},
   "outputs": [],
   "source": [
    "X=pickle.load(open(\"X.pickle\", \"rb\"))\n",
    "y=pickle.load(open(\"y.pickle\", \"rb\"))"
   ]
  },
  {
   "cell_type": "code",
   "execution_count": 10,
   "id": "09784973-b2ec-4aef-959e-f4973a84e293",
   "metadata": {},
   "outputs": [],
   "source": [
    "num_features = 32\n",
    "num_labels = 2\n",
    "batch_size = 128\n",
    "epochs = 13\n",
    "width, height = 50, 50"
   ]
  },
  {
   "cell_type": "code",
   "execution_count": 11,
   "id": "14033961-a594-4d59-a404-82c4b8047788",
   "metadata": {},
   "outputs": [
    {
     "name": "stdout",
     "output_type": "stream",
     "text": [
      "Model: \"sequential\"\n",
      "_________________________________________________________________\n",
      "Layer (type)                 Output Shape              Param #   \n",
      "=================================================================\n",
      "conv2d (Conv2D)              (None, 48, 48, 128)       1280      \n",
      "_________________________________________________________________\n",
      "batch_normalization (BatchNo (None, 48, 48, 128)       512       \n",
      "_________________________________________________________________\n",
      "max_pooling2d (MaxPooling2D) (None, 24, 24, 128)       0         \n",
      "_________________________________________________________________\n",
      "conv2d_1 (Conv2D)            (None, 24, 24, 128)       147584    \n",
      "_________________________________________________________________\n",
      "batch_normalization_1 (Batch (None, 24, 24, 128)       512       \n",
      "_________________________________________________________________\n",
      "max_pooling2d_1 (MaxPooling2 (None, 12, 12, 128)       0         \n",
      "_________________________________________________________________\n",
      "dropout (Dropout)            (None, 12, 12, 128)       0         \n",
      "_________________________________________________________________\n",
      "conv2d_2 (Conv2D)            (None, 12, 12, 64)        73792     \n",
      "_________________________________________________________________\n",
      "batch_normalization_2 (Batch (None, 12, 12, 64)        256       \n",
      "_________________________________________________________________\n",
      "max_pooling2d_2 (MaxPooling2 (None, 6, 6, 64)          0         \n",
      "_________________________________________________________________\n",
      "conv2d_3 (Conv2D)            (None, 6, 6, 64)          36928     \n",
      "_________________________________________________________________\n",
      "batch_normalization_3 (Batch (None, 6, 6, 64)          256       \n",
      "_________________________________________________________________\n",
      "max_pooling2d_3 (MaxPooling2 (None, 3, 3, 64)          0         \n",
      "_________________________________________________________________\n",
      "dropout_1 (Dropout)          (None, 3, 3, 64)          0         \n",
      "_________________________________________________________________\n",
      "conv2d_4 (Conv2D)            (None, 3, 3, 32)          18464     \n",
      "_________________________________________________________________\n",
      "batch_normalization_4 (Batch (None, 3, 3, 32)          128       \n",
      "_________________________________________________________________\n",
      "conv2d_5 (Conv2D)            (None, 3, 3, 32)          9248      \n",
      "_________________________________________________________________\n",
      "max_pooling2d_4 (MaxPooling2 (None, 1, 1, 32)          0         \n",
      "_________________________________________________________________\n",
      "dropout_2 (Dropout)          (None, 1, 1, 32)          0         \n",
      "_________________________________________________________________\n",
      "flatten (Flatten)            (None, 32)                0         \n",
      "_________________________________________________________________\n",
      "dense (Dense)                (None, 128)               4224      \n",
      "_________________________________________________________________\n",
      "dropout_3 (Dropout)          (None, 128)               0         \n",
      "_________________________________________________________________\n",
      "dense_1 (Dense)              (None, 64)                8256      \n",
      "_________________________________________________________________\n",
      "dropout_4 (Dropout)          (None, 64)                0         \n",
      "_________________________________________________________________\n",
      "dense_2 (Dense)              (None, 1)                 65        \n",
      "=================================================================\n",
      "Total params: 301,505\n",
      "Trainable params: 300,673\n",
      "Non-trainable params: 832\n",
      "_________________________________________________________________\n",
      "Epoch 1/13\n",
      "180/180 [==============================] - 375s 2s/step - loss: 0.5035 - accuracy: 0.8151 - val_loss: 0.4872 - val_accuracy: 0.8312\n",
      "Epoch 2/13\n",
      "180/180 [==============================] - 377s 2s/step - loss: 0.4641 - accuracy: 0.8260 - val_loss: 0.4652 - val_accuracy: 0.8312\n",
      "Epoch 3/13\n",
      "180/180 [==============================] - 382s 2s/step - loss: 0.4449 - accuracy: 0.8260 - val_loss: 0.4548 - val_accuracy: 0.8312\n",
      "Epoch 4/13\n",
      "180/180 [==============================] - 370s 2s/step - loss: 0.4293 - accuracy: 0.8260 - val_loss: 0.4593 - val_accuracy: 0.8312\n",
      "Epoch 5/13\n",
      "180/180 [==============================] - 354s 2s/step - loss: 0.4166 - accuracy: 0.8260 - val_loss: 0.4889 - val_accuracy: 0.8312\n",
      "Epoch 6/13\n",
      "180/180 [==============================] - 355s 2s/step - loss: 0.4019 - accuracy: 0.8260 - val_loss: 0.4186 - val_accuracy: 0.8312\n",
      "Epoch 7/13\n",
      "180/180 [==============================] - 363s 2s/step - loss: 0.3931 - accuracy: 0.8260 - val_loss: 0.3849 - val_accuracy: 0.8312\n",
      "Epoch 8/13\n",
      "180/180 [==============================] - 360s 2s/step - loss: 0.3875 - accuracy: 0.8260 - val_loss: 0.3841 - val_accuracy: 0.8312\n",
      "Epoch 9/13\n",
      "180/180 [==============================] - 357s 2s/step - loss: 0.3805 - accuracy: 0.8260 - val_loss: 0.3762 - val_accuracy: 0.8312\n",
      "Epoch 10/13\n",
      "180/180 [==============================] - 354s 2s/step - loss: 0.3752 - accuracy: 0.8260 - val_loss: 0.3678 - val_accuracy: 0.8312\n",
      "Epoch 11/13\n",
      "180/180 [==============================] - 347s 2s/step - loss: 0.3722 - accuracy: 0.8260 - val_loss: 0.3768 - val_accuracy: 0.8312\n",
      "Epoch 12/13\n",
      "180/180 [==============================] - 388s 2s/step - loss: 0.3682 - accuracy: 0.8260 - val_loss: 0.3684 - val_accuracy: 0.8312\n",
      "Epoch 13/13\n",
      "180/180 [==============================] - 436s 2s/step - loss: 0.3624 - accuracy: 0.8260 - val_loss: 0.3585 - val_accuracy: 0.8312\n"
     ]
    }
   ],
   "source": [
    "model = tf.keras.models.Sequential()\n",
    "\n",
    "model.add(tf.keras.layers.Conv2D(num_features*2*2, kernel_size=(3, 3), activation='relu', input_shape=(width, height, 1),))\n",
    "model.add(tf.keras.layers.BatchNormalization())\n",
    "model.add(tf.keras.layers.MaxPooling2D(pool_size=(2,2), strides=(2,2)))\n",
    "model.add(tf.keras.layers.Conv2D(num_features*2*2, kernel_size=(3, 3), activation='relu', padding='same'))\n",
    "model.add(tf.keras.layers.BatchNormalization())\n",
    "model.add(tf.keras.layers.MaxPooling2D(pool_size=(2,2), strides=(2,2)))\n",
    "model.add(tf.keras.layers.Dropout(0.4))\n",
    "\n",
    "model.add(tf.keras.layers.Conv2D(num_features*2, kernel_size=(3, 3), activation='relu', padding='same'))\n",
    "model.add(tf.keras.layers.BatchNormalization())\n",
    "model.add(tf.keras.layers.MaxPooling2D(pool_size=(2,2), strides=(2,2)))\n",
    "model.add(tf.keras.layers.Conv2D(num_features*2, kernel_size=(3, 3), activation='relu', padding='same'))\n",
    "model.add(tf.keras.layers.BatchNormalization())\n",
    "model.add(tf.keras.layers.MaxPooling2D(pool_size=(2,2), strides=(2,2)))\n",
    "model.add(tf.keras.layers.Dropout(0.4))\n",
    "\n",
    "model.add(tf.keras.layers.Conv2D(num_features, kernel_size=(3, 3), activation='relu', padding='same'))\n",
    "model.add(tf.keras.layers.BatchNormalization())\n",
    "model.add(tf.keras.layers.Conv2D(num_features, kernel_size=(3, 3), activation='relu', padding='same'))\n",
    "model.add(tf.keras.layers.MaxPooling2D(pool_size=(2,2), strides=(2,2)))\n",
    "model.add(tf.keras.layers.Dropout(0.4))\n",
    "\n",
    "model.add(tf.keras.layers.Flatten())\n",
    "\n",
    "model.add(tf.keras.layers.Dense(2*2*num_features, activation='relu'))\n",
    "model.add(tf.keras.layers.Dropout(0.5))\n",
    "model.add(tf.keras.layers.Dense(2*num_features, activation='relu'))\n",
    "model.add(tf.keras.layers.Dropout(0.5))\n",
    "\n",
    "reduce_lr = keras.callbacks.ReduceLROnPlateau(monitor='val_loss', factor=0.2,\n",
    "                              patience=2, min_lr=0.0001)\n",
    "\n",
    "model.add(tf.keras.layers.Dense(1, activation='sigmoid'))\n",
    "model.compile(keras.optimizers.Adam(),\n",
    "             loss=keras.losses.BinaryCrossentropy(),\n",
    "             metrics=['accuracy']\n",
    "             )\n",
    "model.summary()\n",
    "history=model.fit(X, y,\n",
    "          batch_size=batch_size,\n",
    "          epochs=epochs,\n",
    "          validation_split=0.2,\n",
    "          callbacks=[reduce_lr]\n",
    "          )"
   ]
  },
  {
   "cell_type": "code",
   "execution_count": 12,
   "id": "5dad312c-bbb5-4495-879c-7f92191202c9",
   "metadata": {},
   "outputs": [
    {
     "data": {
      "image/png": "[encoded data removed]",
      "text/plain": [
       "<Figure size 576x576 with 2 Axes>"
      ]
     },
     "metadata": {
      "needs_background": "light"
     },
     "output_type": "display_data"
    }
   ],
   "source": [
    "acc = history.history['accuracy']\n",
    "val_acc = history.history['val_accuracy']\n",
    "\n",
    "loss = history.history['loss']\n",
    "val_loss = history.history['val_loss']\n",
    "\n",
    "epochs_range = range(epochs)\n",
    "\n",
    "plt.figure(figsize=(8, 8))\n",
    "plt.subplot(1, 2, 1)\n",
    "plt.plot(epochs_range, acc, label='Training Accuracy')\n",
    "plt.plot(epochs_range, val_acc, label='Validation Accuracy')\n",
    "plt.legend(loc='lower right')\n",
    "plt.title('Training and Validation Accuracy')\n",
    "\n",
    "plt.subplot(1, 2, 2)\n",
    "plt.plot(epochs_range, loss, label='Training Loss')\n",
    "plt.plot(epochs_range, val_loss, label='Validation Loss')\n",
    "plt.legend(loc='upper right')\n",
    "plt.title('Training and Validation Loss')\n",
    "plt.show()"
   ]
  },
  {
   "cell_type": "code",
   "execution_count": 94,
   "id": "6a0d87bf-0094-49e0-8667-2c9eb81affbb",
   "metadata": {},
   "outputs": [
    {
     "name": "stdout",
     "output_type": "stream",
     "text": [
      "F=[[[0.53333333]\n",
      "  [0.6       ]\n",
      "  [0.6       ]\n",
      "  ...\n",
      "  [0.17647059]\n",
      "  [0.58823529]\n",
      "  [0.60392157]]\n",
      "\n",
      " [[0.6       ]\n",
      "  [0.6745098 ]\n",
      "  [0.6745098 ]\n",
      "  ...\n",
      "  [0.01568627]\n",
      "  [0.65098039]\n",
      "  [0.67843137]]\n",
      "\n",
      " [[0.6       ]\n",
      "  [0.67058824]\n",
      "  [0.67843137]\n",
      "  ...\n",
      "  [0.05490196]\n",
      "  [0.64313725]\n",
      "  [0.67843137]]\n",
      "\n",
      " ...\n",
      "\n",
      " [[0.58039216]\n",
      "  [0.64705882]\n",
      "  [0.64705882]\n",
      "  ...\n",
      "  [0.61176471]\n",
      "  [0.58431373]\n",
      "  [0.57254902]]\n",
      "\n",
      " [[0.58039216]\n",
      "  [0.65098039]\n",
      "  [0.65098039]\n",
      "  ...\n",
      "  [0.64313725]\n",
      "  [0.63529412]\n",
      "  [0.64313725]]\n",
      "\n",
      " [[0.58431373]\n",
      "  [0.65098039]\n",
      "  [0.64705882]\n",
      "  ...\n",
      "  [0.65098039]\n",
      "  [0.64705882]\n",
      "  [0.64705882]]], Predicted=[0.84796727]\n"
     ]
    }
   ],
   "source": [
    "F=pickle.load(open(\"Faces_1S_1.pickle\", \"rb\"))\n",
    "ynew = model.predict(F)\n",
    "for i in range(len(F)):\n",
    "    print(\"F=%s, Predicted=%s\" % (F[i], ynew[i]))\n",
    "    break"
   ]
  },
  {
   "cell_type": "code",
   "execution_count": 95,
   "id": "0f8c672e-8054-459f-9126-f0afc0455995",
   "metadata": {},
   "outputs": [
    {
     "data": {
      "text/plain": [
       "True"
      ]
     },
     "execution_count": 95,
     "metadata": {},
     "output_type": "execute_result"
    }
   ],
   "source": [
    "import os\n",
    "face_l_1S_1=F[np.argmin(ynew)]\n",
    "face_e_1S_1=F[np.argmax(ynew)]\n",
    "path='StressDataset'\n",
    "cv2.imwrite(os.path.join(path ,'face_l_1S_1.jpg'), 255*face_l_1S_1)\n",
    "cv2.imwrite(os.path.join(path,'face_e_1S_1.jpg'), 255*face_e_1S_1)"
   ]
  },
  {
   "cell_type": "code",
   "execution_count": null,
   "id": "a337672e-ea5a-4869-b49d-c7478b640137",
   "metadata": {},
   "outputs": [],
   "source": []
  }
 ],
 "metadata": {
  "kernelspec": {
   "display_name": "Python 3 (ipykernel)",
   "language": "python",
   "name": "python3"
  },
  "language_info": {
   "codemirror_mode": {
    "name": "ipython",
    "version": 3
   },
   "file_extension": ".py",
   "mimetype": "text/x-python",
   "name": "python",
   "nbconvert_exporter": "python",
   "pygments_lexer": "ipython3",
   "version": "3.8.13"
  }
 },
 "nbformat": 4,
 "nbformat_minor": 5
}
